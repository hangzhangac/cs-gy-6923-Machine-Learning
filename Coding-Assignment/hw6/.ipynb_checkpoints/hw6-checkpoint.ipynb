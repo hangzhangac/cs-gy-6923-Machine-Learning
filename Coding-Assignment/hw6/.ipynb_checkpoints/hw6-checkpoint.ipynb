{
 "cells": [
  {
   "cell_type": "markdown",
   "metadata": {},
   "source": [
    "# Predicting Video Game Sales"
   ]
  },
  {
   "cell_type": "markdown",
   "metadata": {},
   "source": [
    "At a whopping USD 138 billion per year, the video game industry has by now vastly outpaced the music and movie industry combined. For instance, one of the best generating box office opening (Avengers: Infinity Wars) generated about USD 259 million. In comparison, Grand Theft Auto V reached USD 818 million in sales in the first 24 hours.\n",
    "\n",
    "Even so, the gaming industry suffers from the same problems as the music and movie industries: it's a hit-driven business, meaning that the great majority of the video game industry's software releases have been commercial failures.\n",
    "\n",
    "In this scenario, we will investigate whether or not we can predict if a game will be a hit ... or not."
   ]
  },
  {
   "cell_type": "markdown",
   "metadata": {},
   "source": [
    "# Submission"
   ]
  },
  {
   "cell_type": "markdown",
   "metadata": {},
   "source": [
    "In order to submit on gradescope, you need to submit the following:\n",
    "- the homework jupyter notebook it self ```hw6.ipynb```\n",
    "- the pdf generated from the notebook, you can get the pdf from ```File->Print Preview```"
   ]
  },
  {
   "cell_type": "code",
   "execution_count": 1,
   "metadata": {},
   "outputs": [
    {
     "name": "stdout",
     "output_type": "stream",
     "text": [
      "3.9.1 (v3.9.1:1e5d33e9b9, Dec  7 2020, 12:10:52) \n",
      "[Clang 6.0 (clang-600.0.57)]\n"
     ]
    }
   ],
   "source": [
    "import numpy as np \n",
    "import pandas as pd\n",
    "import seaborn as sns\n",
    "import matplotlib.pyplot as plt\n",
    "import sys\n",
    "print(sys.version)\n",
    "%matplotlib inline"
   ]
  },
  {
   "cell_type": "markdown",
   "metadata": {},
   "source": [
    "# 1. Load the data"
   ]
  },
  {
   "cell_type": "code",
   "execution_count": 2,
   "metadata": {},
   "outputs": [
    {
     "data": {
      "text/html": [
       "<div>\n",
       "<style scoped>\n",
       "    .dataframe tbody tr th:only-of-type {\n",
       "        vertical-align: middle;\n",
       "    }\n",
       "\n",
       "    .dataframe tbody tr th {\n",
       "        vertical-align: top;\n",
       "    }\n",
       "\n",
       "    .dataframe thead th {\n",
       "        text-align: right;\n",
       "    }\n",
       "</style>\n",
       "<table border=\"1\" class=\"dataframe\">\n",
       "  <thead>\n",
       "    <tr style=\"text-align: right;\">\n",
       "      <th></th>\n",
       "      <th>Name</th>\n",
       "      <th>Platform</th>\n",
       "      <th>Year_of_Release</th>\n",
       "      <th>Genre</th>\n",
       "      <th>Global_Sales</th>\n",
       "      <th>Critic_Score</th>\n",
       "      <th>Critic_Count</th>\n",
       "      <th>User_Score</th>\n",
       "      <th>Rating</th>\n",
       "      <th>Player0_Rating</th>\n",
       "      <th>...</th>\n",
       "      <th>Player10_Rating</th>\n",
       "      <th>Player11_Rating</th>\n",
       "      <th>Player12_Rating</th>\n",
       "      <th>Player13_Rating</th>\n",
       "      <th>Player14_Rating</th>\n",
       "      <th>Player15_Rating</th>\n",
       "      <th>Player16_Rating</th>\n",
       "      <th>Player17_Rating</th>\n",
       "      <th>Player18_Rating</th>\n",
       "      <th>Player19_Rating</th>\n",
       "    </tr>\n",
       "  </thead>\n",
       "  <tbody>\n",
       "    <tr>\n",
       "      <th>0</th>\n",
       "      <td>EverGrace</td>\n",
       "      <td>PS2</td>\n",
       "      <td>2000.0</td>\n",
       "      <td>Role-Playing</td>\n",
       "      <td>0.35</td>\n",
       "      <td>59.0</td>\n",
       "      <td>12.0</td>\n",
       "      <td>7.8</td>\n",
       "      <td>T</td>\n",
       "      <td>133.158650</td>\n",
       "      <td>...</td>\n",
       "      <td>57.665713</td>\n",
       "      <td>-33.266424</td>\n",
       "      <td>61.475556</td>\n",
       "      <td>14.057871</td>\n",
       "      <td>-45.129118</td>\n",
       "      <td>72.393172</td>\n",
       "      <td>118.762244</td>\n",
       "      <td>126.136540</td>\n",
       "      <td>-118.843764</td>\n",
       "      <td>-29.980012</td>\n",
       "    </tr>\n",
       "    <tr>\n",
       "      <th>1</th>\n",
       "      <td>Spider-Man</td>\n",
       "      <td>PS</td>\n",
       "      <td>2000.0</td>\n",
       "      <td>Action</td>\n",
       "      <td>3.13</td>\n",
       "      <td>87.0</td>\n",
       "      <td>19.0</td>\n",
       "      <td>9.0</td>\n",
       "      <td>E</td>\n",
       "      <td>71.527897</td>\n",
       "      <td>...</td>\n",
       "      <td>29.303636</td>\n",
       "      <td>11.642698</td>\n",
       "      <td>41.533339</td>\n",
       "      <td>123.124881</td>\n",
       "      <td>15.502932</td>\n",
       "      <td>-37.045746</td>\n",
       "      <td>0.629941</td>\n",
       "      <td>-57.932255</td>\n",
       "      <td>-10.307351</td>\n",
       "      <td>156.520977</td>\n",
       "    </tr>\n",
       "    <tr>\n",
       "      <th>2</th>\n",
       "      <td>World Destruction League: Thunder Tanks</td>\n",
       "      <td>PS</td>\n",
       "      <td>2000.0</td>\n",
       "      <td>Action</td>\n",
       "      <td>0.17</td>\n",
       "      <td>35.0</td>\n",
       "      <td>4.0</td>\n",
       "      <td>1.2</td>\n",
       "      <td>T</td>\n",
       "      <td>-154.540029</td>\n",
       "      <td>...</td>\n",
       "      <td>-8.759464</td>\n",
       "      <td>41.054869</td>\n",
       "      <td>-31.947248</td>\n",
       "      <td>21.670272</td>\n",
       "      <td>-49.836887</td>\n",
       "      <td>-131.333637</td>\n",
       "      <td>48.603401</td>\n",
       "      <td>-30.542838</td>\n",
       "      <td>85.473778</td>\n",
       "      <td>-22.211732</td>\n",
       "    </tr>\n",
       "    <tr>\n",
       "      <th>3</th>\n",
       "      <td>The Sims</td>\n",
       "      <td>PC</td>\n",
       "      <td>2000.0</td>\n",
       "      <td>Simulation</td>\n",
       "      <td>0.05</td>\n",
       "      <td>92.0</td>\n",
       "      <td>38.0</td>\n",
       "      <td>7.9</td>\n",
       "      <td>T</td>\n",
       "      <td>-0.838385</td>\n",
       "      <td>...</td>\n",
       "      <td>-88.551848</td>\n",
       "      <td>6.941876</td>\n",
       "      <td>59.678162</td>\n",
       "      <td>-41.710075</td>\n",
       "      <td>137.404091</td>\n",
       "      <td>-56.414104</td>\n",
       "      <td>-30.806495</td>\n",
       "      <td>-79.254849</td>\n",
       "      <td>101.767612</td>\n",
       "      <td>91.455925</td>\n",
       "    </tr>\n",
       "    <tr>\n",
       "      <th>4</th>\n",
       "      <td>Street Fighter EX3</td>\n",
       "      <td>PS2</td>\n",
       "      <td>2000.0</td>\n",
       "      <td>Fighting</td>\n",
       "      <td>0.85</td>\n",
       "      <td>64.0</td>\n",
       "      <td>17.0</td>\n",
       "      <td>7.9</td>\n",
       "      <td>T</td>\n",
       "      <td>62.133597</td>\n",
       "      <td>...</td>\n",
       "      <td>-100.122820</td>\n",
       "      <td>18.085152</td>\n",
       "      <td>38.614088</td>\n",
       "      <td>-10.236145</td>\n",
       "      <td>140.736240</td>\n",
       "      <td>-52.202478</td>\n",
       "      <td>9.647581</td>\n",
       "      <td>131.149693</td>\n",
       "      <td>121.277913</td>\n",
       "      <td>-7.295846</td>\n",
       "    </tr>\n",
       "  </tbody>\n",
       "</table>\n",
       "<p>5 rows × 29 columns</p>\n",
       "</div>"
      ],
      "text/plain": [
       "                                      Name Platform  Year_of_Release  \\\n",
       "0                                EverGrace      PS2           2000.0   \n",
       "1                               Spider-Man       PS           2000.0   \n",
       "2  World Destruction League: Thunder Tanks       PS           2000.0   \n",
       "3                                 The Sims       PC           2000.0   \n",
       "4                       Street Fighter EX3      PS2           2000.0   \n",
       "\n",
       "          Genre  Global_Sales  Critic_Score  Critic_Count  User_Score Rating  \\\n",
       "0  Role-Playing          0.35          59.0          12.0         7.8      T   \n",
       "1        Action          3.13          87.0          19.0         9.0      E   \n",
       "2        Action          0.17          35.0           4.0         1.2      T   \n",
       "3    Simulation          0.05          92.0          38.0         7.9      T   \n",
       "4      Fighting          0.85          64.0          17.0         7.9      T   \n",
       "\n",
       "   Player0_Rating  ...  Player10_Rating  Player11_Rating  Player12_Rating  \\\n",
       "0      133.158650  ...        57.665713       -33.266424        61.475556   \n",
       "1       71.527897  ...        29.303636        11.642698        41.533339   \n",
       "2     -154.540029  ...        -8.759464        41.054869       -31.947248   \n",
       "3       -0.838385  ...       -88.551848         6.941876        59.678162   \n",
       "4       62.133597  ...      -100.122820        18.085152        38.614088   \n",
       "\n",
       "   Player13_Rating  Player14_Rating  Player15_Rating  Player16_Rating  \\\n",
       "0        14.057871       -45.129118        72.393172       118.762244   \n",
       "1       123.124881        15.502932       -37.045746         0.629941   \n",
       "2        21.670272       -49.836887      -131.333637        48.603401   \n",
       "3       -41.710075       137.404091       -56.414104       -30.806495   \n",
       "4       -10.236145       140.736240       -52.202478         9.647581   \n",
       "\n",
       "   Player17_Rating  Player18_Rating  Player19_Rating  \n",
       "0       126.136540      -118.843764       -29.980012  \n",
       "1       -57.932255       -10.307351       156.520977  \n",
       "2       -30.542838        85.473778       -22.211732  \n",
       "3       -79.254849       101.767612        91.455925  \n",
       "4       131.149693       121.277913        -7.295846  \n",
       "\n",
       "[5 rows x 29 columns]"
      ]
     },
     "execution_count": 2,
     "metadata": {},
     "output_type": "execute_result"
    }
   ],
   "source": [
    "# import ssl\n",
    "# ssl._create_default_https_context = ssl._create_unverified_context\n",
    "df = pd.read_csv(\"VideoGameSales.csv\")\n",
    "df.head()"
   ]
  },
  {
   "cell_type": "markdown",
   "metadata": {},
   "source": [
    "Note that the name column is just an index column, so we will remove it as we would not use it for predictions."
   ]
  },
  {
   "cell_type": "code",
   "execution_count": 3,
   "metadata": {},
   "outputs": [
    {
     "data": {
      "text/html": [
       "<div>\n",
       "<style scoped>\n",
       "    .dataframe tbody tr th:only-of-type {\n",
       "        vertical-align: middle;\n",
       "    }\n",
       "\n",
       "    .dataframe tbody tr th {\n",
       "        vertical-align: top;\n",
       "    }\n",
       "\n",
       "    .dataframe thead th {\n",
       "        text-align: right;\n",
       "    }\n",
       "</style>\n",
       "<table border=\"1\" class=\"dataframe\">\n",
       "  <thead>\n",
       "    <tr style=\"text-align: right;\">\n",
       "      <th></th>\n",
       "      <th>Platform</th>\n",
       "      <th>Year_of_Release</th>\n",
       "      <th>Genre</th>\n",
       "      <th>Global_Sales</th>\n",
       "      <th>Critic_Score</th>\n",
       "      <th>Critic_Count</th>\n",
       "      <th>User_Score</th>\n",
       "      <th>Rating</th>\n",
       "      <th>Player0_Rating</th>\n",
       "      <th>Player1_Rating</th>\n",
       "      <th>...</th>\n",
       "      <th>Player10_Rating</th>\n",
       "      <th>Player11_Rating</th>\n",
       "      <th>Player12_Rating</th>\n",
       "      <th>Player13_Rating</th>\n",
       "      <th>Player14_Rating</th>\n",
       "      <th>Player15_Rating</th>\n",
       "      <th>Player16_Rating</th>\n",
       "      <th>Player17_Rating</th>\n",
       "      <th>Player18_Rating</th>\n",
       "      <th>Player19_Rating</th>\n",
       "    </tr>\n",
       "  </thead>\n",
       "  <tbody>\n",
       "    <tr>\n",
       "      <th>0</th>\n",
       "      <td>PS2</td>\n",
       "      <td>2000.0</td>\n",
       "      <td>Role-Playing</td>\n",
       "      <td>0.35</td>\n",
       "      <td>59.0</td>\n",
       "      <td>12.0</td>\n",
       "      <td>7.8</td>\n",
       "      <td>T</td>\n",
       "      <td>133.158650</td>\n",
       "      <td>-95.003397</td>\n",
       "      <td>...</td>\n",
       "      <td>57.665713</td>\n",
       "      <td>-33.266424</td>\n",
       "      <td>61.475556</td>\n",
       "      <td>14.057871</td>\n",
       "      <td>-45.129118</td>\n",
       "      <td>72.393172</td>\n",
       "      <td>118.762244</td>\n",
       "      <td>126.136540</td>\n",
       "      <td>-118.843764</td>\n",
       "      <td>-29.980012</td>\n",
       "    </tr>\n",
       "    <tr>\n",
       "      <th>1</th>\n",
       "      <td>PS</td>\n",
       "      <td>2000.0</td>\n",
       "      <td>Action</td>\n",
       "      <td>3.13</td>\n",
       "      <td>87.0</td>\n",
       "      <td>19.0</td>\n",
       "      <td>9.0</td>\n",
       "      <td>E</td>\n",
       "      <td>71.527897</td>\n",
       "      <td>-111.431914</td>\n",
       "      <td>...</td>\n",
       "      <td>29.303636</td>\n",
       "      <td>11.642698</td>\n",
       "      <td>41.533339</td>\n",
       "      <td>123.124881</td>\n",
       "      <td>15.502932</td>\n",
       "      <td>-37.045746</td>\n",
       "      <td>0.629941</td>\n",
       "      <td>-57.932255</td>\n",
       "      <td>-10.307351</td>\n",
       "      <td>156.520977</td>\n",
       "    </tr>\n",
       "    <tr>\n",
       "      <th>2</th>\n",
       "      <td>PS</td>\n",
       "      <td>2000.0</td>\n",
       "      <td>Action</td>\n",
       "      <td>0.17</td>\n",
       "      <td>35.0</td>\n",
       "      <td>4.0</td>\n",
       "      <td>1.2</td>\n",
       "      <td>T</td>\n",
       "      <td>-154.540029</td>\n",
       "      <td>-74.446175</td>\n",
       "      <td>...</td>\n",
       "      <td>-8.759464</td>\n",
       "      <td>41.054869</td>\n",
       "      <td>-31.947248</td>\n",
       "      <td>21.670272</td>\n",
       "      <td>-49.836887</td>\n",
       "      <td>-131.333637</td>\n",
       "      <td>48.603401</td>\n",
       "      <td>-30.542838</td>\n",
       "      <td>85.473778</td>\n",
       "      <td>-22.211732</td>\n",
       "    </tr>\n",
       "    <tr>\n",
       "      <th>3</th>\n",
       "      <td>PC</td>\n",
       "      <td>2000.0</td>\n",
       "      <td>Simulation</td>\n",
       "      <td>0.05</td>\n",
       "      <td>92.0</td>\n",
       "      <td>38.0</td>\n",
       "      <td>7.9</td>\n",
       "      <td>T</td>\n",
       "      <td>-0.838385</td>\n",
       "      <td>-14.317814</td>\n",
       "      <td>...</td>\n",
       "      <td>-88.551848</td>\n",
       "      <td>6.941876</td>\n",
       "      <td>59.678162</td>\n",
       "      <td>-41.710075</td>\n",
       "      <td>137.404091</td>\n",
       "      <td>-56.414104</td>\n",
       "      <td>-30.806495</td>\n",
       "      <td>-79.254849</td>\n",
       "      <td>101.767612</td>\n",
       "      <td>91.455925</td>\n",
       "    </tr>\n",
       "    <tr>\n",
       "      <th>4</th>\n",
       "      <td>PS2</td>\n",
       "      <td>2000.0</td>\n",
       "      <td>Fighting</td>\n",
       "      <td>0.85</td>\n",
       "      <td>64.0</td>\n",
       "      <td>17.0</td>\n",
       "      <td>7.9</td>\n",
       "      <td>T</td>\n",
       "      <td>62.133597</td>\n",
       "      <td>-136.736470</td>\n",
       "      <td>...</td>\n",
       "      <td>-100.122820</td>\n",
       "      <td>18.085152</td>\n",
       "      <td>38.614088</td>\n",
       "      <td>-10.236145</td>\n",
       "      <td>140.736240</td>\n",
       "      <td>-52.202478</td>\n",
       "      <td>9.647581</td>\n",
       "      <td>131.149693</td>\n",
       "      <td>121.277913</td>\n",
       "      <td>-7.295846</td>\n",
       "    </tr>\n",
       "  </tbody>\n",
       "</table>\n",
       "<p>5 rows × 28 columns</p>\n",
       "</div>"
      ],
      "text/plain": [
       "  Platform  Year_of_Release         Genre  Global_Sales  Critic_Score  \\\n",
       "0      PS2           2000.0  Role-Playing          0.35          59.0   \n",
       "1       PS           2000.0        Action          3.13          87.0   \n",
       "2       PS           2000.0        Action          0.17          35.0   \n",
       "3       PC           2000.0    Simulation          0.05          92.0   \n",
       "4      PS2           2000.0      Fighting          0.85          64.0   \n",
       "\n",
       "   Critic_Count  User_Score Rating  Player0_Rating  Player1_Rating  ...  \\\n",
       "0          12.0         7.8      T      133.158650      -95.003397  ...   \n",
       "1          19.0         9.0      E       71.527897     -111.431914  ...   \n",
       "2           4.0         1.2      T     -154.540029      -74.446175  ...   \n",
       "3          38.0         7.9      T       -0.838385      -14.317814  ...   \n",
       "4          17.0         7.9      T       62.133597     -136.736470  ...   \n",
       "\n",
       "   Player10_Rating  Player11_Rating  Player12_Rating  Player13_Rating  \\\n",
       "0        57.665713       -33.266424        61.475556        14.057871   \n",
       "1        29.303636        11.642698        41.533339       123.124881   \n",
       "2        -8.759464        41.054869       -31.947248        21.670272   \n",
       "3       -88.551848         6.941876        59.678162       -41.710075   \n",
       "4      -100.122820        18.085152        38.614088       -10.236145   \n",
       "\n",
       "   Player14_Rating  Player15_Rating  Player16_Rating  Player17_Rating  \\\n",
       "0       -45.129118        72.393172       118.762244       126.136540   \n",
       "1        15.502932       -37.045746         0.629941       -57.932255   \n",
       "2       -49.836887      -131.333637        48.603401       -30.542838   \n",
       "3       137.404091       -56.414104       -30.806495       -79.254849   \n",
       "4       140.736240       -52.202478         9.647581       131.149693   \n",
       "\n",
       "   Player18_Rating  Player19_Rating  \n",
       "0      -118.843764       -29.980012  \n",
       "1       -10.307351       156.520977  \n",
       "2        85.473778       -22.211732  \n",
       "3       101.767612        91.455925  \n",
       "4       121.277913        -7.295846  \n",
       "\n",
       "[5 rows x 28 columns]"
      ]
     },
     "execution_count": 3,
     "metadata": {},
     "output_type": "execute_result"
    }
   ],
   "source": [
    "df = df.drop(columns=['Name'])\n",
    "df.head()"
   ]
  },
  {
   "cell_type": "markdown",
   "metadata": {},
   "source": [
    "# 2. Data Overview"
   ]
  },
  {
   "cell_type": "markdown",
   "metadata": {},
   "source": [
    "The dataframe contains 7 variables which we will use to predict the Global Sales (continuous). We are therefore dealing with a multi-variate regression problem. Before using ML to solve the problem, we want to have an overview of the data, so plotting is a good tool."
   ]
  },
  {
   "cell_type": "markdown",
   "metadata": {},
   "source": [
    "### 2.1 Sales each year"
   ]
  },
  {
   "cell_type": "markdown",
   "metadata": {},
   "source": [
    "We first would like to take a look at how global sales in general change every year, so we want to create a plot whose x-axis represents the year_of_release and y-axis represents the total_sale for each year.\n",
    "\n",
    "To create such plot, you might want to follow these steps:\n",
    "1. group the records by \"Year_of_Release\"\n",
    "2. extract the \"Global_Sales\" sum series\n",
    "3. apply plot() to the series\n",
    "\n",
    "You should be able to do this in one line of code using pandas.\n",
    "\n",
    "The following is how your plot should look like."
   ]
  },
  {
   "cell_type": "markdown",
   "metadata": {},
   "source": [
    "![avatar](./pictures/year-vs-sales.png)"
   ]
  },
  {
   "cell_type": "code",
   "execution_count": 4,
   "metadata": {},
   "outputs": [
    {
     "data": {
      "text/plain": [
       "<AxesSubplot:xlabel='Year_of_Release'>"
      ]
     },
     "execution_count": 4,
     "metadata": {},
     "output_type": "execute_result"
    },
    {
     "data": {
      "image/png": "[encoded data removed]",
      "text/plain": [
       "<Figure size 432x288 with 1 Axes>"
      ]
     },
     "metadata": {
      "needs_background": "light"
     },
     "output_type": "display_data"
    }
   ],
   "source": [
    "df.groupby(['Year_of_Release']).agg({'Global_Sales':'sum'}).plot()"
   ]
  },
  {
   "cell_type": "markdown",
   "metadata": {},
   "source": [
    "### 2.2 Sales each genre"
   ]
  },
  {
   "cell_type": "markdown",
   "metadata": {},
   "source": [
    "Then we want to look at sales for each genre. We want to create a bar chart whose x-axis represents the sales for each genrn while the y-axis represents different genre.\n",
    "\n",
    "To create such plot, you might want to follow these steps:\n",
    "1. group the dataframe by \"Genre\"\n",
    "2. extract the \"Global_Sales\" sum series\n",
    "3. to get barplots, use .plot.barh() on this series\n",
    "\n",
    "You should be able to do this in one line of code using pandas.\n",
    "\n",
    "The following is how your plot should look like."
   ]
  },
  {
   "cell_type": "markdown",
   "metadata": {},
   "source": [
    "![avatar](./pictures/sales-per-genre.png)"
   ]
  },
  {
   "cell_type": "code",
   "execution_count": 5,
   "metadata": {},
   "outputs": [
    {
     "data": {
      "text/plain": [
       "<AxesSubplot:ylabel='Genre'>"
      ]
     },
     "execution_count": 5,
     "metadata": {},
     "output_type": "execute_result"
    },
    {
     "data": {
      "image/png": "[encoded data removed]",
      "text/plain": [
       "<Figure size 432x288 with 1 Axes>"
      ]
     },
     "metadata": {
      "needs_background": "light"
     },
     "output_type": "display_data"
    }
   ],
   "source": [
    "df.groupby(['Genre']).agg({'Global_Sales':'sum'}).plot.barh()"
   ]
  },
  {
   "cell_type": "markdown",
   "metadata": {},
   "source": [
    "# 3. Train-Test split"
   ]
  },
  {
   "cell_type": "markdown",
   "metadata": {},
   "source": [
    "Before training the model, we would like to split the data set as the proper way of testing the validity of an algorithm is to have a test set and set it aside for future testing. We do not touch this test-set while training the model."
   ]
  },
  {
   "cell_type": "code",
   "execution_count": 6,
   "metadata": {},
   "outputs": [
    {
     "data": {
      "text/plain": [
       "(6747, 28)"
      ]
     },
     "execution_count": 6,
     "metadata": {},
     "output_type": "execute_result"
    }
   ],
   "source": [
    "df.tail()\n",
    "df.shape"
   ]
  },
  {
   "cell_type": "code",
   "execution_count": 7,
   "metadata": {},
   "outputs": [
    {
     "name": "stdout",
     "output_type": "stream",
     "text": [
      "Original: (6747, 59)\n",
      "Train:    (5397, 59) (5397,)\n",
      "Test:     (1350, 59) (1350,)\n"
     ]
    }
   ],
   "source": [
    "from sklearn.model_selection import train_test_split\n",
    "\n",
    "y = df[[\"Global_Sales\"]].values.ravel()\n",
    "\n",
    "# Generate dummies for all catagrical features\n",
    "X = pd.get_dummies(df.drop([\"Global_Sales\"], axis=1)).values\n",
    "\n",
    "X_train, X_test, y_train, y_test = train_test_split(X, y, test_size=0.20, random_state=0, shuffle=False)\n",
    "\n",
    "\n",
    "print(\"Original:\", X.shape)\n",
    "print(\"Train:   \", X_train.shape,y_train.shape)\n",
    "print(\"Test:    \", X_test.shape,y_test.shape)"
   ]
  },
  {
   "cell_type": "markdown",
   "metadata": {},
   "source": [
    "### Question: Note that we set the parameter shuffle=False when doing train-test split. Why is that?\n",
    "Since we hope to find out whether a game will be a hit or not in the future, it's better for us to use past data to predict sales in the future. The data is ordered by Year_of_Release. So we use first 80 percent data as past data, the last 20 pencent data as test data in the future. That's why we do not choose to shuffle the data, we do not hope to use the information from the future."
   ]
  },
  {
   "cell_type": "markdown",
   "metadata": {},
   "source": [
    "# 4. Base Model"
   ]
  },
  {
   "cell_type": "markdown",
   "metadata": {},
   "source": [
    "When we train some models, we always want a target to beat. Normally, we will use the constant model whose prediction of any given data is the mean of the train data, because our model should at least be better than this naive prediction, otherwise the model would be meaningless.  \n",
    "\n",
    "So we would like to know the MSE for the simple constant model, write down the code here."
   ]
  },
  {
   "cell_type": "code",
   "execution_count": 8,
   "metadata": {},
   "outputs": [
    {
     "name": "stdout",
     "output_type": "stream",
     "text": [
      "Constant MSE: 2.23\n"
     ]
    }
   ],
   "source": [
    "from sklearn.metrics import mean_squared_error\n",
    "import numpy as np\n",
    "y_mean=y_train.mean()\n",
    "#print(y_train.size)\n",
    "y_mean=[y_mean for x in range(y_test.size)]\n",
    "y_mean=np.array(y_mean)\n",
    "#print(y_mean)\n",
    "constant_mse = mean_squared_error(y_test,y_mean)\n",
    "print(\"Constant MSE: %.2f\" % constant_mse)"
   ]
  },
  {
   "cell_type": "markdown",
   "metadata": {},
   "source": [
    "# 5. K Nearest Neighbours"
   ]
  },
  {
   "cell_type": "markdown",
   "metadata": {},
   "source": [
    "The first model we will look at is KNN Regression. sklearn has an implementation in ```sklearn.neighors```."
   ]
  },
  {
   "cell_type": "code",
   "execution_count": 9,
   "metadata": {},
   "outputs": [],
   "source": [
    "from sklearn.neighbors import KNeighborsRegressor"
   ]
  },
  {
   "cell_type": "markdown",
   "metadata": {},
   "source": [
    "Let's train some knn models with different ks and see their performace on test set. Complete the following:\n",
    "- Train knn models for k from 2 to 50.\n",
    "- Draw a curve representing the relationship between k and test mse.\n",
    "- Draw the test mse for the constant model on the same graph(this should be a horizontal line)."
   ]
  },
  {
   "cell_type": "code",
   "execution_count": 10,
   "metadata": {},
   "outputs": [],
   "source": [
    "test_mse_list = []\n",
    "k_range = range(2, 51)\n",
    "# train multiple knn models and record test mse\n",
    "for k in k_range:\n",
    "    knn=KNeighborsRegressor(n_neighbors=k)\n",
    "    knn.fit(X_train,y_train)\n",
    "    y_test_pred=knn.predict(X_test)\n",
    "    mse = mean_squared_error(y_test,y_test_pred)\n",
    "    test_mse_list.append(mse)\n",
    "k=list(range(2,51))\n",
    "horizontal=[constant_mse for i in range(2,51)]"
   ]
  },
  {
   "cell_type": "code",
   "execution_count": 11,
   "metadata": {
    "scrolled": true
   },
   "outputs": [
    {
     "data": {
      "image/png": "[encoded data removed]",
      "text/plain": [
       "<Figure size 432x288 with 1 Axes>"
      ]
     },
     "metadata": {
      "needs_background": "light"
     },
     "output_type": "display_data"
    }
   ],
   "source": [
    "# make the plots\n",
    "plt.plot(k,test_mse_list, label=\"test\")\n",
    "plt.plot(k,horizontal, label=\"constant\")\n",
    "plt.legend()\n",
    "plt.show()"
   ]
  },
  {
   "cell_type": "markdown",
   "metadata": {},
   "source": [
    "### Question: Compare the test mse for knn models with constant model, what do you find? How would you explain it?\n",
    "The best performance of KNN is worse than the simple constant model. Possibly we have too many useless and irrelevant features, which adds noise to our model."
   ]
  },
  {
   "cell_type": "markdown",
   "metadata": {},
   "source": [
    "# 6. Regularized Regression Model"
   ]
  },
  {
   "cell_type": "markdown",
   "metadata": {},
   "source": [
    "Then we will look at regularized model. We've seen L1/L2 regularized linear models in lecture. Sklearn has an efficient SGD(Stochastic Gradient Descent) implementation called SGDRegressor where allow us to solve regularized linear regression.  \n",
    "\n",
    "Compared to direct solver, SGDRegressor has the following advantages:\n",
    "- Efficiency\n",
    "- Ease of implementation (lots of opportunities for code tuning).  \n",
    "\n",
    "SGDRegressor has the following disadvantages:\n",
    "- SGD requires a number of hyperparameters such as the regularization parameter and the number of iterations.\n",
    "- SGD is sensitive to feature scaling.\n",
    "  \n",
    "  \n",
    "The following is an example of using it and it shows some parameters that you can tune with:"
   ]
  },
  {
   "cell_type": "code",
   "execution_count": 12,
   "metadata": {},
   "outputs": [],
   "source": [
    "from sklearn.linear_model import SGDRegressor\n",
    "\n",
    "\n",
    "#limit the max_iter and set the random seed to fix the out put.\n",
    "sgd_model = SGDRegressor(\n",
    "    penalty=\"l1\",            # the type of regularization component to use, \n",
    "                             # l1 indicates Lasso and l2 indicats Ridge\n",
    "    max_iter=1000,           # maximal number of epochs\n",
    "    tol=1e-3,                # tolerance for the stopping condition (stops if it \n",
    "                             # can't improve the result more than tol), this speeds \n",
    "                             # up model building and is great for prototyping\n",
    "    alpha = 0.01,            # regularization strength, low = free model, high = controlled model\n",
    "    random_state=0           # random seed, fix the output, keep it 0 all the time in this hw\n",
    ")"
   ]
  },
  {
   "cell_type": "markdown",
   "metadata": {},
   "source": [
    "We are getting to a point where applying all the required steps for fitting a model is becoming cumbersome. Sklearn has a great feature called pipelines which allows you to apply all the necessary steps at once. For instance, consider a similar set-up to what we ended up with last time. We want to apply the following three steps:\n",
    "\n",
    "1. Scale the data using a StandardScaler\n",
    "2. Add polynomial features using PolynomialFeatures (in this section let's make degree=1)\n",
    "3. Train a linear model using SGDRegressor (in this section let's make penalty=l1 and alpha=0.01)"
   ]
  },
  {
   "cell_type": "markdown",
   "metadata": {},
   "source": [
    "![avatar](./pictures/pipeline.png)"
   ]
  },
  {
   "cell_type": "markdown",
   "metadata": {},
   "source": [
    "The following code implements this pipeline for our current dataset. Complete the pipeline and report the test mse.  \n",
    "\n",
    "Note: for all the sections below, whenever you train a SGDRegressor, please set the random seed to 0 to fix the output."
   ]
  },
  {
   "cell_type": "code",
   "execution_count": 13,
   "metadata": {},
   "outputs": [
    {
     "name": "stdout",
     "output_type": "stream",
     "text": [
      "MSE: 1.99\n"
     ]
    }
   ],
   "source": [
    "from sklearn.pipeline import Pipeline\n",
    "from sklearn.linear_model import SGDRegressor\n",
    "from sklearn.preprocessing import PolynomialFeatures, StandardScaler\n",
    "from sklearn.metrics import mean_squared_error\n",
    "\n",
    "# Design the pipeline as a sequence of steps each step\n",
    "# is specified as a tuple ('name',model). We will refer\n",
    "# to this name later.\n",
    "pipeline =Pipeline([('sc',StandardScaler()),('poly',PolynomialFeatures(degree=1)),('sgdreg',SGDRegressor(penalty=\"l1\", alpha = 0.01,\n",
    "    random_state=0))])\n",
    "\n",
    "# Train using the whole pipeline using just 1 call!\n",
    "pipeline.fit(X_train,y_train)\n",
    "\n",
    "# Report the MSE on test data\n",
    "y_test_pred=pipeline.predict(X_test)\n",
    "print(\"MSE: %.2f\" % mean_squared_error(y_test,y_test_pred))\n"
   ]
  },
  {
   "cell_type": "markdown",
   "metadata": {},
   "source": [
    "# 7. Customized Cross Vlidation"
   ]
  },
  {
   "cell_type": "markdown",
   "metadata": {},
   "source": [
    "Whenever we would like to train models and select the best parameters for them, we need to set-up a validation set. This validation set will be used for tuning parameters exclusively. This is a step that is often done wrong by novices in ML: you should never validate your parameters on the test-set. Doing so would cherry-pick the best solution and suffer from overfitting/variance problems."
   ]
  },
  {
   "cell_type": "markdown",
   "metadata": {},
   "source": [
    "![avatar](./pictures/cross_validation.svg)"
   ]
  },
  {
   "cell_type": "markdown",
   "metadata": {},
   "source": [
    "This is how we've seen it until now. In many cases, however, we will want to test it repeatedly on different parts of the data to get a more reliable out-of-sample estimate."
   ]
  },
  {
   "cell_type": "markdown",
   "metadata": {},
   "source": [
    "![avatar](./pictures/grid_search_cross_validation.png)"
   ]
  },
  {
   "cell_type": "markdown",
   "metadata": {},
   "source": [
    "The final validation error is, therefore, a summary (mean) of 5 individual tests. In every test, we take a piece of the data out for the sake of validation (blue piece) and train on the remainder (green). This is how you should validate datasets without a time-component."
   ]
  },
  {
   "cell_type": "markdown",
   "metadata": {},
   "source": [
    "However, using this original way of kfold cv is also shuffling the data in some way and does not meet our requirement that we don't want to shuffle the data. In this case, we would want to split the data in the follwoing way instead:"
   ]
  },
  {
   "cell_type": "markdown",
   "metadata": {},
   "source": [
    "![avatar](./pictures/timeseriesval.png)"
   ]
  },
  {
   "cell_type": "markdown",
   "metadata": {},
   "source": [
    "The default ```KFold()``` class in sklearn.model_selection does not handle this case, so we want to implement it ourselves."
   ]
  },
  {
   "cell_type": "code",
   "execution_count": 14,
   "metadata": {},
   "outputs": [],
   "source": [
    "# Note that for k=5 we only do validation for 4(k-1) times\n",
    "# Input: data, an array inlucding all the train data you want to use for cv\n",
    "# Output: splits, a list of tuples in the form of (train_index, val_index), just as the kfold() in sklearn\n",
    "# def customized_kfold(data, k):\n",
    "#     n = data.shape[0] # we first get the number of data points we have for future sue\n",
    "#     mod=n%k\n",
    "#     num_fold=n//k\n",
    "#     start=0\n",
    "#     fold=[]\n",
    "#     splits=[]\n",
    "#     for x in range(k):\n",
    "#         if x<=mod-1:\n",
    "#             fold.append((start,start+num_fold+1))\n",
    "#             start=start+num_fold+1\n",
    "#         else:\n",
    "#             fold.append((start,start+num_fold))\n",
    "#             start=start+num_fold\n",
    "#     for x in range(k-1):\n",
    "#         splits.append( (list(range(fold[x][0],fold[x][1])), list(range(fold[x+1][0],fold[x+1][1])) ) )\n",
    "#         #print((fold[x][0],fold[x][1]),(fold[x+1][0],fold[x+1][1]))\n",
    "#     return splits\n",
    "\n",
    "def customized_kfold(data, k):\n",
    "    n = data.shape[0] # we first get the number of data points we have for future sue\n",
    "    splits = []\n",
    "    for i in range(k-1):\n",
    "        train_index=list(range((i+1)*n//k))\n",
    "        val_index=list(range((i+1)*n//k, (i+2)*n//k))\n",
    "        splits.append((train_index, val_index))\n",
    "    return splits"
   ]
  },
  {
   "cell_type": "code",
   "execution_count": 15,
   "metadata": {},
   "outputs": [],
   "source": [
    "# The function for full cross validation\n",
    "# Input: X_train: full training X\n",
    "#        y_train: full training y\n",
    "#        k:       num of folds you want\n",
    "#        model:   the sklearn model that you would like to do cv on\n",
    "# Output: a tuple, (mean_train_mse, mean_val_mse)\n",
    "def kfold_cross_validation(X_train, y_train, k, model):\n",
    "    train_mse_list, val_mse_list = [], []\n",
    "    #number=[]\n",
    "    for train_index, val_index in customized_kfold(X_train, k):\n",
    "        cur_X_train=X_train[train_index]\n",
    "        cur_y_train=y_train[train_index]\n",
    "        \n",
    "        cur_X_val=X_train[val_index]\n",
    "        cur_y_val=y_train[val_index]\n",
    "        model.fit(cur_X_train,cur_y_train)\n",
    "        y_train_pred=model.predict(cur_X_train)\n",
    "        y_val_pred=model.predict(cur_X_val)\n",
    "        \n",
    "        train_mse_list.append(mean_squared_error(cur_y_train,y_train_pred))\n",
    "        val_mse_list.append(mean_squared_error(cur_y_val,y_val_pred))\n",
    "        #number.append(y_val_pred.shape[0])\n",
    "#     total=sum(number)\n",
    "#     mean_val_mse=0.0\n",
    "#     for i,x in enumerate(val_mse_list):\n",
    "#         mean_val_mse+=number[i]*x/total\n",
    "        \n",
    "    mean_train_mse, mean_val_mse=np.mean(train_mse_list), np.mean(val_mse_list)\n",
    "    return (mean_train_mse, mean_val_mse)"
   ]
  },
  {
   "cell_type": "markdown",
   "metadata": {},
   "source": [
    "Then do 10-fold cross validation with the functions you just write to find the best parameters for the following models and report the test mse for the best parameters you found for each model.\n",
    "- SGDRegressor with penalty=l1\n",
    "- SGDRegressor with penalty=l2\n",
    "- KNNRegressor  \n",
    "\n",
    "For SGDRegressor you only need to train alpha in ```[0, 0.001, 0.01, 0.1, 1, 5, 10]``` and degree in ```[1, 2]```, and for KNNRegressor you only need to train for k in ```range(10, 200, 10)```. Feel free to try larger search space but you might be careful with the run time."
   ]
  },
  {
   "cell_type": "markdown",
   "metadata": {},
   "source": [
    "## 7.1 SGDRegressor with penalty=l1(Lasso)"
   ]
  },
  {
   "cell_type": "code",
   "execution_count": 16,
   "metadata": {},
   "outputs": [
    {
     "data": {
      "text/plain": [
       "({'degree': 1, 'alpha': 0.1}, 4.226279979844468)"
      ]
     },
     "execution_count": 16,
     "metadata": {},
     "output_type": "execute_result"
    }
   ],
   "source": [
    "best_params=dict()\n",
    "best_score=None\n",
    "for alpha in [0, 0.001, 0.01, 0.1, 1, 5, 10]:\n",
    "    for degree in [1,2]:\n",
    "        pipeline = Pipeline([\n",
    "            ('ss', StandardScaler()),\n",
    "            ('poly', PolynomialFeatures(degree=degree)),\n",
    "            ('sgd',  SGDRegressor(penalty=\"l1\",alpha=alpha,random_state=0)),\n",
    "        ])\n",
    "        \n",
    "        mean_train_mse, mean_val_mse=kfold_cross_validation(X_train,y_train,10,pipeline)\n",
    "        #pipeline.fit(X_train,y_train)\n",
    "        #print(mean_squared_error(pipeline.predict(X_test),y_test))\n",
    "        if best_score is None or best_score>mean_val_mse:\n",
    "            best_score=mean_val_mse\n",
    "            best_params['degree'],best_params['alpha']=degree,alpha\n",
    "            \n",
    "best_params, best_score"
   ]
  },
  {
   "cell_type": "code",
   "execution_count": 17,
   "metadata": {},
   "outputs": [
    {
     "data": {
      "text/plain": [
       "1.8967724901205942"
      ]
     },
     "execution_count": 17,
     "metadata": {},
     "output_type": "execute_result"
    }
   ],
   "source": [
    "best_lasso = pipeline = Pipeline([\n",
    "    ('ss', StandardScaler()),\n",
    "    ('poly', PolynomialFeatures(best_params['degree'])),\n",
    "    ('sgd',  SGDRegressor(penalty=\"l1\",alpha=best_params['alpha'],random_state=0)),\n",
    "])\n",
    "best_lasso.fit(X_train, y_train)\n",
    "mean_squared_error(best_lasso.predict(X_test), y_test)"
   ]
  },
  {
   "cell_type": "markdown",
   "metadata": {},
   "source": [
    "## 7.2 SGDRegressor with penalty=l2(Ridge)"
   ]
  },
  {
   "cell_type": "code",
   "execution_count": 18,
   "metadata": {},
   "outputs": [
    {
     "data": {
      "text/plain": [
       "({'degree': 1, 'alpha': 1}, 4.142419521483283)"
      ]
     },
     "execution_count": 18,
     "metadata": {},
     "output_type": "execute_result"
    }
   ],
   "source": [
    "best_params=dict()\n",
    "best_score=None\n",
    "for alpha in [0, 0.001, 0.01, 0.1, 1, 5, 10]:\n",
    "    for degree in [1, 2]:\n",
    "        pipeline = Pipeline([\n",
    "            ('ss', StandardScaler()),\n",
    "            ('poly', PolynomialFeatures(degree=degree)),\n",
    "            ('sgd',  SGDRegressor(penalty=\"l2\",alpha=alpha,random_state=0)),\n",
    "        ])\n",
    "        mean_train_mse, mean_val_mse=kfold_cross_validation(X_train,y_train,10,pipeline)\n",
    "        if best_score is None or best_score>mean_val_mse:\n",
    "            best_score=mean_val_mse\n",
    "            best_params['degree'],best_params['alpha']=degree,alpha\n",
    "best_params, best_score"
   ]
  },
  {
   "cell_type": "code",
   "execution_count": 19,
   "metadata": {},
   "outputs": [
    {
     "data": {
      "text/plain": [
       "1.961139914435924"
      ]
     },
     "execution_count": 19,
     "metadata": {},
     "output_type": "execute_result"
    }
   ],
   "source": [
    "best_ridge = pipeline = Pipeline([\n",
    "    ('ss', StandardScaler()),\n",
    "    ('poly', PolynomialFeatures(best_params['degree'])),\n",
    "    ('sgd',  SGDRegressor(penalty=\"l2\",alpha=best_params['alpha'],random_state=0)),\n",
    "])\n",
    "best_ridge.fit(X_train, y_train)\n",
    "mean_squared_error(best_ridge.predict(X_test), y_test)"
   ]
  },
  {
   "cell_type": "markdown",
   "metadata": {},
   "source": [
    "## 7.3 KNN"
   ]
  },
  {
   "cell_type": "code",
   "execution_count": 22,
   "metadata": {},
   "outputs": [
    {
     "data": {
      "text/plain": [
       "({'n_neighbors': 170}, 4.474090587370332)"
      ]
     },
     "execution_count": 22,
     "metadata": {},
     "output_type": "execute_result"
    }
   ],
   "source": [
    "best_params=dict()\n",
    "best_score=None\n",
    "for k in range(10, 200, 10):\n",
    "    knn = KNeighborsRegressor(n_neighbors=k)\n",
    "    mean_train_mse, mean_val_mse=kfold_cross_validation(X_train,y_train,10,knn)\n",
    "    if best_score is None or best_score>mean_val_mse:\n",
    "        best_score=mean_val_mse\n",
    "        best_params['n_neighbors']=k\n",
    "best_params, best_score"
   ]
  },
  {
   "cell_type": "code",
   "execution_count": 23,
   "metadata": {},
   "outputs": [
    {
     "data": {
      "text/plain": [
       "2.2441378035191595"
      ]
     },
     "execution_count": 23,
     "metadata": {},
     "output_type": "execute_result"
    }
   ],
   "source": [
    "best_knn = KNeighborsRegressor(n_neighbors=best_params['n_neighbors'])\n",
    "best_knn.fit(X_train, y_train)\n",
    "mean_squared_error(best_knn.predict(X_test), y_test)"
   ]
  },
  {
   "cell_type": "markdown",
   "metadata": {},
   "source": [
    "# 8. KNN Revisited"
   ]
  },
  {
   "cell_type": "markdown",
   "metadata": {},
   "source": [
    "## 8.1 Feature Selection"
   ]
  },
  {
   "cell_type": "markdown",
   "metadata": {},
   "source": [
    "We should have noticed that the performance for knn models are not that good. We would like to do something to improve its performance. We learned in class that l1 regularized regression can perform feature selection. Let's try it on our dataset.  \n",
    "\n",
    "Complete the following:\n",
    "- Run SGDRegressor again with l1 penalty and the best parameters you select from cv.\n",
    "- Find those features selected by the l1 regularized model and modify the dataset.\n",
    "- Run knn models for k in ```range(50, 2000, 100)```.\n",
    "- Make a plot of 1/k versus test mse.\n",
    "- Plot the test mse of the constant baseline model on the same graph."
   ]
  },
  {
   "cell_type": "code",
   "execution_count": 24,
   "metadata": {},
   "outputs": [],
   "source": [
    "# Since numpy array does not have a count method, we might want to implement a \n",
    "# hepler function to find the index with zero and nonzero numbers.\n",
    "# Your implement does not need to take only one input, or you even don't need to implement \n",
    "# this to finish the hw, this function is only used to make it easier for you to solve the\n",
    "# remaining problems.\n",
    "def find_zero_and_nonezero_index(lst):\n",
    "    nonzero_index,zero_index=[],[]\n",
    "    for i,x in enumerate(lst):\n",
    "        if(i==0):\n",
    "            continue\n",
    "        if x==0.0:\n",
    "            zero_index.append(i-1)\n",
    "        else:\n",
    "            nonzero_index.append(i-1)\n",
    "    return nonzero_index,zero_index"
   ]
  },
  {
   "cell_type": "code",
   "execution_count": 25,
   "metadata": {},
   "outputs": [
    {
     "name": "stdout",
     "output_type": "stream",
     "text": [
      "[ 0.          0.          0.14821721  0.49847481  0.          0.\n",
      "  0.          0.          0.          0.          0.          0.\n",
      "  0.          0.          0.          0.          0.          0.\n",
      "  0.          0.          0.          0.          0.          0.\n",
      "  0.          0.          0.          0.          0.          0.\n",
      " -0.06095104  0.          0.          0.          0.          0.\n",
      "  0.          0.14138839  0.          0.         -0.03440476  0.\n",
      "  0.          0.          0.          0.          0.          0.\n",
      "  0.          0.          0.          0.          0.          0.\n",
      "  0.          0.11592697  0.          0.          0.          0.        ]\n"
     ]
    }
   ],
   "source": [
    "# plug in the best params you just find.\n",
    "pipeline = Pipeline([\n",
    "    ('ss', StandardScaler()),\n",
    "    ('poly', PolynomialFeatures(degree=1)),\n",
    "    ('sgd',  SGDRegressor(penalty=\"l1\", alpha=0.1,random_state=0)),\n",
    "])\n",
    "\n",
    "# Train using the whole pipeline using just 1 call!\n",
    "pipeline.fit(X_train,y_train)\n",
    "sgdre=pipeline.steps[2][1]\n",
    "print(sgdre.coef_)\n",
    "\n",
    "\n",
    "# Find the coeficients for the SGDRegressor\n",
    "# Hint: You can retreive the model for each step in the pipeline use pipeline.steps"
   ]
  },
  {
   "cell_type": "code",
   "execution_count": 26,
   "metadata": {},
   "outputs": [
    {
     "name": "stdout",
     "output_type": "stream",
     "text": [
      "(5397, 6)\n",
      "(5397, 53)\n"
     ]
    }
   ],
   "source": [
    "# Find the zero and nonzero index.\n",
    "# This step is optional, if you think you don't need it, you can skip it.\n",
    "# Hint: Does the number of features you retrieve from the pipeline matches the number of \n",
    "#       features in the original dataframe?\n",
    "#print(type(X_train))\n",
    "nonzero_index, zero_index = find_zero_and_nonezero_index(sgdre.coef_.tolist())\n",
    "\n",
    "X_new_train=np.delete(X_train, zero_index, axis=1)\n",
    "X_new_test=np.delete(X_test, zero_index, axis=1)\n",
    "print(X_new_train.shape)\n",
    "X_new_train_del=np.delete(X_train, nonzero_index, axis=1)\n",
    "X_new_test_del=np.delete(X_test, nonzero_index, axis=1)\n",
    "print(X_new_train_del.shape)"
   ]
  },
  {
   "cell_type": "code",
   "execution_count": 27,
   "metadata": {},
   "outputs": [],
   "source": [
    "test_mse_list = []\n",
    "train_mse_list = []\n",
    "k_range = range(50, 2000, 100)\n",
    "for k in k_range:\n",
    "    knn = KNeighborsRegressor(n_neighbors=k)\n",
    "    knn.fit(X_new_train, y_train)\n",
    "    train_mse_list.append(mean_squared_error(knn.predict(X_new_train), y_train))\n",
    "    test_mse_list.append(mean_squared_error(knn.predict(X_new_test), y_test))"
   ]
  },
  {
   "cell_type": "code",
   "execution_count": 28,
   "metadata": {},
   "outputs": [
    {
     "data": {
      "image/png": "[encoded data removed]",
      "text/plain": [
       "<Figure size 432x288 with 1 Axes>"
      ]
     },
     "metadata": {
      "needs_background": "light"
     },
     "output_type": "display_data"
    }
   ],
   "source": [
    "k_list = [1/k for k in k_range]\n",
    "plt.plot(k_list,test_mse_list, label=\"test\")\n",
    "plt.plot(k_list,[constant_mse]*len(k_list), label=\"constant\")\n",
    "plt.legend()\n",
    "plt.show()"
   ]
  },
  {
   "cell_type": "markdown",
   "metadata": {},
   "source": [
    "### Question: Compare this plot with what you have in section5, is there any difference between them? If so what caused such differences?\n",
    "The MSE error of KNN is much less than the simple constant model, which mean all KNN models perform better than simple constant model.\n",
    "That is because we do feature selection, removing irrelevant features from our datasets and decreasing the noise."
   ]
  },
  {
   "cell_type": "markdown",
   "metadata": {},
   "source": [
    "Now we would like to compare how train and test mse changes. Complete the following:\n",
    "- Make two subplots in the same row, the left one should be 1/k versus train mse, and the right one should be 1/k versus test mse."
   ]
  },
  {
   "cell_type": "code",
   "execution_count": 29,
   "metadata": {},
   "outputs": [
    {
     "data": {
      "image/png": "[encoded data removed]",
      "text/plain": [
       "<Figure size 1200x600 with 2 Axes>"
      ]
     },
     "metadata": {
      "needs_background": "light"
     },
     "output_type": "display_data"
    }
   ],
   "source": [
    "fig = plt.figure(1, figsize=[6, 3], dpi=200)\n",
    "k_list = [1/k for k in k_range]\n",
    "subplot = plt.subplot(1,2,1)#\n",
    "subplot.plot(k_list,train_mse_list, label=\"train\")\n",
    "plt.legend()\n",
    "subplot = plt.subplot(1,2,2)#\n",
    "subplot.plot(k_list,test_mse_list, label=\"test\")\n",
    "plt.legend()\n",
    "plt.show()"
   ]
  },
  {
   "cell_type": "markdown",
   "metadata": {},
   "source": [
    "### Question: How do the trends differ for train mse from test mse? Explain the reason.\n",
    "The mse of train dataset increases when k grows. However, the mse of test dataset decreases at first but increases later.  \n",
    "Reason:  \n",
    "1.In terms of train dataset, when k grows, the Radius grows, so the prediction would deviate from real value more than before.  \n",
    "2.In terms of test set, when k is litte, the model is underfit, so the mse decreases when k grows. Afterwards, the model becomes overfit, so the mse increases."
   ]
  },
  {
   "cell_type": "markdown",
   "metadata": {},
   "source": [
    "## 8.2 More on features deleted"
   ]
  },
  {
   "cell_type": "markdown",
   "metadata": {},
   "source": [
    "In last section we train knn models on those features selected by Lasso, now we will take a look at what will happen if we train on those features that are deleted. Complete the following:  \n",
    "- Find the features deleted by lasso\n",
    "- Run knn models for k in ```range(50, 2000, 100)```\n",
    "- Make two subplots in the same row, the left one should be 1/k versus train mse, and the right one should be 1/k versus test mse."
   ]
  },
  {
   "cell_type": "code",
   "execution_count": 30,
   "metadata": {},
   "outputs": [],
   "source": [
    "test_mse_list = []\n",
    "train_mse_list = []\n",
    "k_range = range(50, 2000, 100)\n",
    "for k in k_range:\n",
    "    knn = KNeighborsRegressor(n_neighbors=k)\n",
    "    knn.fit(X_new_train_del, y_train)\n",
    "    train_mse_list.append(mean_squared_error(knn.predict(X_new_train_del), y_train))\n",
    "    test_mse_list.append(mean_squared_error(knn.predict(X_new_test_del), y_test))"
   ]
  },
  {
   "cell_type": "code",
   "execution_count": 31,
   "metadata": {},
   "outputs": [
    {
     "data": {
      "image/png": "[encoded data removed]",
      "text/plain": [
       "<Figure size 1200x600 with 2 Axes>"
      ]
     },
     "metadata": {
      "needs_background": "light"
     },
     "output_type": "display_data"
    }
   ],
   "source": [
    "fig = plt.figure(1, figsize=[6, 3], dpi=200)\n",
    "k_list = [1/k for k in k_range]\n",
    "subplot = plt.subplot(1,2,1)#\n",
    "subplot.plot(k_list,train_mse_list, label=\"train\")\n",
    "plt.legend()\n",
    "subplot = plt.subplot(1,2,2)#\n",
    "subplot.plot(k_list,test_mse_list, label=\"test\")\n",
    "plt.legend()\n",
    "plt.show()"
   ]
  },
  {
   "cell_type": "markdown",
   "metadata": {},
   "source": [
    "### Question: Are the trends for train mse and test mse the same with what you have in section 8.1? If not what are the differences? Explain.\n",
    "The trends of train set are same. However, the trends of test set are different."
   ]
  },
  {
   "cell_type": "markdown",
   "metadata": {},
   "source": [
    "# 9. Cross Validation with Modified Dataset"
   ]
  },
  {
   "cell_type": "markdown",
   "metadata": {},
   "source": [
    "Now you have modified the dataset according to lasso. Please retrain the following model on the modified dataset you have and find the best parameters for them.\n",
    "- SGDRegressor with penalty=l1\n",
    "- SGDRegressor with penalty=l2\n",
    "- KNNRegressor  \n",
    "\n",
    "For SGDRegressor you only need to train alpha in ```[0, 0.001, 0.01, 0.1, 1, 5, 10]``` and degree in ```[1, 2]```, and for KNNRegressor you only need to train for k in ```range(10, 200, 10)```. Feel free to try larger search space but you might be careful with the run time."
   ]
  },
  {
   "cell_type": "markdown",
   "metadata": {},
   "source": [
    "## 9.1 SGDRegressor with penalty=l1(Lasso)"
   ]
  },
  {
   "cell_type": "code",
   "execution_count": 32,
   "metadata": {},
   "outputs": [
    {
     "data": {
      "text/plain": [
       "({'degree': 1, 'alpha': 0.1}, 4.242961595064486)"
      ]
     },
     "execution_count": 32,
     "metadata": {},
     "output_type": "execute_result"
    }
   ],
   "source": [
    "best_params=dict()\n",
    "best_score=None\n",
    "for alpha in [0, 0.001, 0.01, 0.1, 1, 5, 10]:\n",
    "    for degree in [1,2]:\n",
    "        pipeline = Pipeline([\n",
    "            ('ss', StandardScaler()),\n",
    "            ('poly', PolynomialFeatures(degree=degree)),\n",
    "            ('sgd',  SGDRegressor(penalty=\"l1\",alpha=alpha,random_state=0)),\n",
    "        ])\n",
    "        \n",
    "        mean_train_mse, mean_val_mse=kfold_cross_validation(X_new_train,y_train,10,pipeline)\n",
    "        if best_score is None or best_score>mean_val_mse:\n",
    "            best_score=mean_val_mse\n",
    "            best_params['degree'],best_params['alpha']=degree,alpha\n",
    "            \n",
    "best_params, best_score"
   ]
  },
  {
   "cell_type": "code",
   "execution_count": 33,
   "metadata": {},
   "outputs": [
    {
     "data": {
      "text/plain": [
       "1.8967825937852352"
      ]
     },
     "execution_count": 33,
     "metadata": {},
     "output_type": "execute_result"
    }
   ],
   "source": [
    "best_lasso = pipeline = Pipeline([\n",
    "    ('ss', StandardScaler()),\n",
    "    ('poly', PolynomialFeatures(best_params['degree'])),\n",
    "    ('sgd',  SGDRegressor(penalty=\"l1\",alpha=best_params['alpha'],random_state=0)),\n",
    "])\n",
    "best_lasso.fit(X_new_train, y_train)\n",
    "mean_squared_error(best_lasso.predict(X_new_test), y_test)"
   ]
  },
  {
   "cell_type": "markdown",
   "metadata": {},
   "source": [
    "## 9.2 SGDRegressor with penalty=l2(Ridge)"
   ]
  },
  {
   "cell_type": "code",
   "execution_count": 34,
   "metadata": {},
   "outputs": [
    {
     "data": {
      "text/plain": [
       "({'degree': 1, 'alpha': 1}, 4.312317340825682)"
      ]
     },
     "execution_count": 34,
     "metadata": {},
     "output_type": "execute_result"
    }
   ],
   "source": [
    "best_params=dict()\n",
    "best_score=None\n",
    "for alpha in [0, 0.001, 0.01, 0.1, 1, 5, 10]:\n",
    "    for degree in [1, 2]:\n",
    "        pipeline = Pipeline([\n",
    "            ('ss', StandardScaler()),\n",
    "            ('poly', PolynomialFeatures(degree=degree)),\n",
    "            ('sgd',  SGDRegressor(penalty=\"l2\",alpha=alpha,random_state=0)),\n",
    "        ])\n",
    "        mean_train_mse, mean_val_mse=kfold_cross_validation(X_new_train,y_train,10,pipeline)\n",
    "        if best_score is None or best_score>mean_val_mse:\n",
    "            best_score=mean_val_mse\n",
    "            best_params['degree'],best_params['alpha']=degree,alpha\n",
    "best_params, best_score"
   ]
  },
  {
   "cell_type": "code",
   "execution_count": 35,
   "metadata": {},
   "outputs": [
    {
     "data": {
      "text/plain": [
       "1.8888277404940625"
      ]
     },
     "execution_count": 35,
     "metadata": {},
     "output_type": "execute_result"
    }
   ],
   "source": [
    "best_ridge = pipeline = Pipeline([\n",
    "    ('ss', StandardScaler()),\n",
    "    ('poly', PolynomialFeatures(best_params['degree'])),\n",
    "    ('sgd',  SGDRegressor(penalty=\"l2\",alpha=best_params['alpha'],random_state=0)),\n",
    "])\n",
    "best_ridge.fit(X_new_train, y_train)\n",
    "mean_squared_error(best_ridge.predict(X_new_test), y_test)"
   ]
  },
  {
   "cell_type": "markdown",
   "metadata": {},
   "source": [
    "## 9.3 KNN"
   ]
  },
  {
   "cell_type": "code",
   "execution_count": 36,
   "metadata": {},
   "outputs": [
    {
     "data": {
      "text/plain": [
       "({'n_neighbors': 80}, 3.9464997131779995)"
      ]
     },
     "execution_count": 36,
     "metadata": {},
     "output_type": "execute_result"
    }
   ],
   "source": [
    "best_params=dict()\n",
    "best_score=None\n",
    "for k in range(10, 200, 10):\n",
    "    knn = KNeighborsRegressor(n_neighbors=k)\n",
    "    mean_train_mse, mean_val_mse=kfold_cross_validation(X_new_train,y_train,10,knn)\n",
    "    if best_score is None or best_score>mean_val_mse:\n",
    "        best_score=mean_val_mse\n",
    "        best_params['n_neighbors']=k\n",
    "best_params, best_score"
   ]
  },
  {
   "cell_type": "code",
   "execution_count": 37,
   "metadata": {},
   "outputs": [
    {
     "data": {
      "text/plain": [
       "1.9368435805787036"
      ]
     },
     "execution_count": 37,
     "metadata": {},
     "output_type": "execute_result"
    }
   ],
   "source": [
    "best_knn = KNeighborsRegressor(n_neighbors=best_params['n_neighbors'])\n",
    "best_knn.fit(X_new_train, y_train)\n",
    "mean_squared_error(best_knn.predict(X_new_test), y_test)"
   ]
  },
  {
   "cell_type": "markdown",
   "metadata": {},
   "source": [
    "### Question: Compare the test mse with what you have in section 7, is there any improvements? How much does each model improve? How would you explain the difference in the improvements?\n",
    "The test mse of SGDRegressor with Lasso is almost unchanged, that is because Lasso have removed the irrelevant features by giving them a zero weight value in section 7, so these two models trained with the same dataset to some extent.  \n",
    "The test mse of SGDRegressor with Ridge decreases a little, that is because we remove the irrelevant features. The reason why it just decreases a little bit is that Ridge in section 7 have gave the irrelevant features a small weight value.  \n",
    "The test mse of KNN decreases a lot, that is because KNN is feature-sensitive. The more irrelevant features, the larger test mse loss."
   ]
  },
  {
   "cell_type": "markdown",
   "metadata": {},
   "source": [
    "### Question: What is your final choice for the model type and its parameter(s)? Explain your reason.\n",
    "1.Use SGDRegressor with Lasso(degree': 1, 'alpha': 0.1) to remove irrelevant features.  \n",
    "2.Then use SGDRegressor with Ridge('degree': 1, 'alpha': 1) to train with the dataset without irrelevant features.  \n",
    "The frist step is to remove irrelevant features. And without irrelevant features, Ridge performs better than Lasso."
   ]
  },
  {
   "cell_type": "code",
   "execution_count": null,
   "metadata": {},
   "outputs": [],
   "source": []
  }
 ],
 "metadata": {
  "kernelspec": {
   "display_name": "Python 3",
   "language": "python",
   "name": "python3"
  },
  "language_info": {
   "codemirror_mode": {
    "name": "ipython",
    "version": 3
   },
   "file_extension": ".py",
   "mimetype": "text/x-python",
   "name": "python",
   "nbconvert_exporter": "python",
   "pygments_lexer": "ipython3",
   "version": "3.9.1"
  }
 },
 "nbformat": 4,
 "nbformat_minor": 4
}
